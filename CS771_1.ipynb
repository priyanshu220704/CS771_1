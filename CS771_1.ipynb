{
  "nbformat": 4,
  "nbformat_minor": 0,
  "metadata": {
    "colab": {
      "provenance": [],
      "gpuType": "T4"
    },
    "kernelspec": {
      "name": "python3",
      "display_name": "Python 3"
    },
    "language_info": {
      "name": "python"
    },
    "accelerator": "GPU"
  },
  "cells": [
    {
      "cell_type": "code",
      "execution_count": 1,
      "metadata": {
        "id": "xfw6fooRCVYE"
      },
      "outputs": [],
      "source": [
        "import numpy as np\n",
        "import time\n",
        "import sklearn\n",
        "from scipy.linalg import khatri_rao\n",
        "from sklearn.svm import LinearSVC\n",
        "from sklearn.linear_model import LogisticRegression\n",
        "from sklearn.model_selection import train_test_split\n",
        "from sklearn.metrics import accuracy_score\n",
        "from sklearn.linear_model import LogisticRegression"
      ]
    },
    {
      "cell_type": "code",
      "source": [
        "train_data = np.loadtxt('public_trn.txt')\n",
        "train_questions = train_data[:, :32]\n",
        "train_answers = train_data[:, 32:]"
      ],
      "metadata": {
        "id": "-aqsKWWOC9RD"
      },
      "execution_count": 3,
      "outputs": []
    },
    {
      "cell_type": "code",
      "source": [
        "test_data = np.loadtxt('public_tst.txt')\n",
        "test_questions = test_data[:, :32]\n",
        "test_answers = test_data[:, 32:]"
      ],
      "metadata": {
        "id": "yoc1VftPFLhU"
      },
      "execution_count": 4,
      "outputs": []
    },
    {
      "cell_type": "code",
      "source": [
        "print(train_questions.shape)\n",
        "print(train_answers.shape)\n",
        "print(test_questions.shape)\n",
        "print(test_answers.shape)"
      ],
      "metadata": {
        "colab": {
          "base_uri": "https://localhost:8080/"
        },
        "id": "BV6SwcaOFYw5",
        "outputId": "e821a1ed-d26e-47c5-8feb-2066d5c14dc0"
      },
      "execution_count": 5,
      "outputs": [
        {
          "output_type": "stream",
          "name": "stdout",
          "text": [
            "(40000, 32)\n",
            "(40000, 2)\n",
            "(10000, 32)\n",
            "(10000, 2)\n"
          ]
        }
      ]
    },
    {
      "cell_type": "code",
      "source": [
        "def my_map(X):\n",
        "  transformed_X = np.cumprod(1-2*np.flip(X, axis=1), axis=1)\n",
        "  features = np.hstack((X, transformed_X))\n",
        "  return features"
      ],
      "metadata": {
        "id": "sli-tmJEFbIH"
      },
      "execution_count": 6,
      "outputs": []
    },
    {
      "cell_type": "code",
      "source": [
        "train_features = my_map(train_questions)\n",
        "test_features = my_map(test_questions)"
      ],
      "metadata": {
        "id": "kutzkeerJkLN"
      },
      "execution_count": 7,
      "outputs": []
    },
    {
      "cell_type": "code",
      "source": [
        "print(train_features.shape)\n",
        "print(test_features.shape)"
      ],
      "metadata": {
        "colab": {
          "base_uri": "https://localhost:8080/"
        },
        "id": "XLI05k1mJnvd",
        "outputId": "0a229c5b-94b3-4f82-df09-ed6cc9ff20dd"
      },
      "execution_count": 8,
      "outputs": [
        {
          "output_type": "stream",
          "name": "stdout",
          "text": [
            "(40000, 64)\n",
            "(10000, 64)\n"
          ]
        }
      ]
    },
    {
      "cell_type": "code",
      "source": [
        "def my_fit(X_train, y0_train, y1_train):\n",
        "    clf0 = LinearSVC(loss='hinge', C=1)\n",
        "    clf1 = LinearSVC(loss='hinge', C=1)\n",
        "\n",
        "    start1 = time.time()\n",
        "    clf0.fit(X_train, y0_train)\n",
        "    w0 = clf0.coef_[0]\n",
        "    b0 = clf0.intercept_[0]\n",
        "    end1 = time.time()\n",
        "\n",
        "    start2 = time.time()\n",
        "    clf1.fit(X_train, y1_train)\n",
        "    w1 = clf1.coef_[0]\n",
        "    b1 = clf1.intercept_[0]\n",
        "    end2 = time.time()\n",
        "\n",
        "    training_time1 = end1 - start1\n",
        "    training_time2 = end2 - start2\n",
        "\n",
        "    return w0, b0, w1, b1, training_time1, training_time2"
      ],
      "metadata": {
        "id": "4A98-LIhJ2EG"
      },
      "execution_count": 11,
      "outputs": []
    },
    {
      "cell_type": "code",
      "source": [
        "w0, b0, w1, b1, train_time1, train_time2 = my_fit(train_features, train_answers[:, 0], train_answers[:, 1])\n",
        "\n",
        "y0_train_pred = (np.dot(train_features, w0) + b0 > 0).astype(int)\n",
        "y1_train_pred = (np.dot(train_features, w1) + b1 > 0).astype(int)\n",
        "\n",
        "train_accuracy_0 = accuracy_score(train_answers[:, 0], y0_train_pred)\n",
        "train_accuracy_1 = accuracy_score(train_answers[:, 1], y1_train_pred)\n",
        "\n",
        "print(f\"Train Accuracy for Response0: {train_accuracy_0:.4f}\")\n",
        "print(f\"Train Accuracy for Response1: {train_accuracy_1:.4f}\")\n",
        "\n",
        "y0_test_pred = (np.dot(test_features, w0) + b0 > 0).astype(int)\n",
        "y1_test_pred = (np.dot(test_features, w1) + b1 > 0).astype(int)\n",
        "\n",
        "test_accuracy_0 = accuracy_score(test_answers[:, 0], y0_test_pred)\n",
        "test_accuracy_1 = accuracy_score(test_answers[:, 1], y1_test_pred)\n",
        "\n",
        "print(f\"Test Accuracy for Response0: {test_accuracy_0:.4f}\")\n",
        "print(f\"Test Accuracy for Response1: {test_accuracy_1:.4f}\")\n",
        "print(f\"Training time: {train_time1:.4f}\")\n",
        "print(f\"Training time: {train_time2:.4f}\")"
      ],
      "metadata": {
        "colab": {
          "base_uri": "https://localhost:8080/"
        },
        "id": "AcrC1U8RMehf",
        "outputId": "40cafecc-64d0-4db5-c697-50d7edbdce45"
      },
      "execution_count": 12,
      "outputs": [
        {
          "output_type": "stream",
          "name": "stderr",
          "text": [
            "/usr/local/lib/python3.10/dist-packages/sklearn/svm/_base.py:1244: ConvergenceWarning: Liblinear failed to converge, increase the number of iterations.\n",
            "  warnings.warn(\n"
          ]
        },
        {
          "output_type": "stream",
          "name": "stdout",
          "text": [
            "Train Accuracy for Response0: 0.9814\n",
            "Train Accuracy for Response1: 0.9964\n",
            "Test Accuracy for Response0: 0.9838\n",
            "Test Accuracy for Response1: 0.9949\n",
            "Training time: 0.4100\n",
            "Training time: 0.2757\n"
          ]
        },
        {
          "output_type": "stream",
          "name": "stderr",
          "text": [
            "/usr/local/lib/python3.10/dist-packages/sklearn/svm/_base.py:1244: ConvergenceWarning: Liblinear failed to converge, increase the number of iterations.\n",
            "  warnings.warn(\n"
          ]
        }
      ]
    },
    {
      "cell_type": "code",
      "source": [],
      "metadata": {
        "id": "FagZOKa48xe0"
      },
      "execution_count": null,
      "outputs": []
    }
  ]
}